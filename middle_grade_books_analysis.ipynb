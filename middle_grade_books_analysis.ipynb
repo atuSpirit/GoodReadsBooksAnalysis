{
 "cells": [
  {
   "cell_type": "markdown",
   "metadata": {},
   "source": [
    "# Select Middle Grade Books on GoodReads\n",
    "\n",
    "[GoodReads](https://www.goodreads.com/) is a website with tons of book introduction and reviews from users. It is used by many people to share their reading experience. It's also good place to discover books might interesting you.  Recently, my son has moved his reading level from simple chapter books to more complex one. I'd like to find some books with good reviews for my son. So I searched and analyzed middle grade books.  "
   ]
  },
  {
   "cell_type": "markdown",
   "metadata": {},
   "source": [
    "## Program Overflow"
   ]
  },
  {
   "cell_type": "markdown",
   "metadata": {},
   "source": [
    "+ First step scrape all middle grade books from [GoodReads](https://www.goodreads.com/search?utf8=%E2%9C%93&query=middle+grade). I use the urllib library to connect to the websites, the BeautifulSoup library to collect all of the HTML, the re library for parsing the words and filtering out other markup based on regular expressions, store book informations in CSV file.  \n",
    "+ Second step analyze the book informations to reveal good books. Use pandas and matplotlib to manage and plot the final results. \n",
    " "
   ]
  },
  {
   "cell_type": "markdown",
   "metadata": {},
   "source": [
    "## Part 1. Scrape the data from GoodReads website"
   ]
  },
  {
   "cell_type": "markdown",
   "metadata": {},
   "source": [
    "\n",
    "+ Enter \"middle grade\" in [GoodReads](https://www.goodreads.com/search?utf8=%E2%9C%93&query=middle+grade) to search for books in middle grade category\n",
    "+ See the list of books displayed by the website\n",
    "+ Access the link to each book's information\n",
    "+ Scrape all of the html in the book list, it contains multiple pages, each page contain 20 books\n",
    "+ Extract \\['Title', 'Author', 'Ave_rating', 'Rating_cnt', 'Review_cnt', 'Year', 'Pages', 'Publisher'\\] from each book's information page and append it to a CSV file for latter use"
   ]
  },
  {
   "cell_type": "code",
   "execution_count": 184,
   "metadata": {},
   "outputs": [],
   "source": [
    "import urllib\n",
    "import bs4 \n",
    "import numpy as np\n",
    "import pandas as pd\n",
    "import re\n",
    "import csv\n",
    "import matplotlib.pyplot as plt\n"
   ]
  },
  {
   "cell_type": "markdown",
   "metadata": {},
   "source": [
    "### Get the first link by searching \"middle grade\" on goodreads.com"
   ]
  },
  {
   "cell_type": "code",
   "execution_count": 171,
   "metadata": {},
   "outputs": [],
   "source": [
    "url = \"https://www.goodreads.com/search?&query=middle+grade\"\n",
    "source = urllib.request.urlopen(url).read()\n",
    "soup = bs4.BeautifulSoup(source, 'html.parser')\n"
   ]
  },
  {
   "cell_type": "markdown",
   "metadata": {},
   "source": [
    "### Find out the total number of books and get number of pages we need to scrape"
   ]
  },
  {
   "cell_type": "code",
   "execution_count": 177,
   "metadata": {},
   "outputs": [
    {
     "name": "stdout",
     "output_type": "stream",
     "text": [
      "Page 1 of about 1430 results (0.20 seconds)\n",
      "book number:1430\n",
      "Number of web pages: 72\n"
     ]
    }
   ],
   "source": [
    "#Extract the total number of books in middle-grade shelf\n",
    "book_num_string = soup.find('h3', class_='searchSubNavContainer').string.rstrip()\n",
    "print(book_num_string)\n",
    "\n",
    "book_num = int(book_num_string.split(' ')[4])\n",
    "print(\"book number:\" + str(book_num))\n",
    "\n",
    "#Compute the number of pages we need to crawl to get all books\n",
    "num_per_page = 20\n",
    "total_pages = int(book_num / num_per_page) + 1\n",
    "print(\"Number of web pages: \" + str(total_pages))\n",
    "\n",
    "domain_name = \"https://www.goodreads.com\""
   ]
  },
  {
   "cell_type": "markdown",
   "metadata": {},
   "source": [
    "### Extract all book links from one page"
   ]
  },
  {
   "cell_type": "code",
   "execution_count": 178,
   "metadata": {
    "scrolled": false
   },
   "outputs": [
    {
     "name": "stdout",
     "output_type": "stream",
     "text": [
      "https://www.goodreads.com/search?page=1&q=middle+grade&tab=books\n",
      "20\n",
      "https://www.goodreads.com/book/show/1609414.Darkness_Falls?from_search=true\n"
     ]
    }
   ],
   "source": [
    "def extract_book_link_one_page(page_num):\n",
    "    \"\"\"Extract the book links in the page with index page_num\"\"\"\n",
    "    url = \"https://www.goodreads.com/search?page=\" + str(page_num) + \"&q=middle+grade&tab=books\"\n",
    "    print(url)\n",
    "    \n",
    "    html_page = urllib.request.urlopen(url).read()\n",
    "    soup = bs4.BeautifulSoup(html_page, 'html.parser')\n",
    "    \n",
    "    #Extract links for books\n",
    "    links_of_one_page = [domain_name + a.get(\"href\") for a in soup.find_all('a', class_= \"bookTitle\")]\n",
    "    return links_of_one_page\n",
    "\n",
    "links = extract_book_link_one_page(1)\n",
    "print(len(links))\n",
    "print(links[0])\n",
    "\n"
   ]
  },
  {
   "cell_type": "code",
   "execution_count": 8,
   "metadata": {
    "scrolled": true
   },
   "outputs": [
    {
     "name": "stdout",
     "output_type": "stream",
     "text": [
      "https://www.goodreads.com/book/show/28187.The_Lightning_Thief\n"
     ]
    }
   ],
   "source": [
    "print(links[0])"
   ]
  },
  {
   "cell_type": "markdown",
   "metadata": {},
   "source": [
    "Initialize a pandas DataFrame to store books information scraped from webpages"
   ]
  },
  {
   "cell_type": "code",
   "execution_count": 93,
   "metadata": {},
   "outputs": [],
   "source": [
    "#column_names = ['Title', 'Author', 'Ave_rating', 'Rating_cnt', 'Review_cnt', 'Price', 'Year', 'Pages', 'Publisher']\n",
    "column_names = ['Title', 'Author', 'Ave_rating', 'Rating_cnt', 'Review_cnt', 'Year', 'Pages', 'Publisher']\n",
    "books_df = pd.DataFrame(columns=column_names)"
   ]
  },
  {
   "cell_type": "markdown",
   "metadata": {},
   "source": [
    "### Get book information from the book information webpage for each book"
   ]
  },
  {
   "cell_type": "code",
   "execution_count": 409,
   "metadata": {},
   "outputs": [
    {
     "data": {
      "text/plain": [
       "['Darkness Falls', 'Les Martin', 3.47, 401, 16, '1996', 108, 'HarperCollins']"
      ]
     },
     "execution_count": 409,
     "metadata": {},
     "output_type": "execute_result"
    }
   ],
   "source": [
    "def parse_one_book(book_link):\n",
    "    \"\"\"parse one book and store information in pandas object\"\"\"\n",
    "    book_page = urllib.request.urlopen(book_link).read()\n",
    "    soup = bs4.BeautifulSoup(book_page, 'html.parser')\n",
    "    \n",
    "    title = soup.find(id=\"bookTitle\").string.strip()\n",
    "    author = soup.find('a', class_= \"authorName\").find('span').string\n",
    "    ave_rating = soup.find(\"span\", itemprop=\"ratingValue\")\n",
    "    if ave_rating != None:\n",
    "        ave_rating = float(ave_rating.string)\n",
    "    rating_cnt = soup.find(\"meta\", itemprop = \"ratingCount\")\n",
    "    if rating_cnt != None:\n",
    "        rating_cnt = int(rating_cnt.get(\"content\"))\n",
    "        \n",
    "    review_cnt = soup.find(\"meta\", itemprop = \"reviewCount\")\n",
    "    if review_cnt != None:\n",
    "        review_cnt = int(review_cnt.get(\"content\"))\n",
    "    \n",
    "   # amazon_link = domain_name + soup.find(id=\"buyButton\").get(\"href\")\n",
    "   # price = get_price_from_amazon(amazon_link)\n",
    "    \n",
    "    details = str(soup.find(id=\"details\").find_all(\"div\")[1])\n",
    "    year = re.findall(\"\\d{3,4}\", details)\n",
    "    if year != None:\n",
    "        year = year[0]\n",
    "        \n",
    "    publisher_line = details.split(\"\\n\")[3]\n",
    "    m = re.search(r\"by\\s+(.+)\", publisher_line);\n",
    "    if m == None:\n",
    "        publisher = None\n",
    "    else:\n",
    "        publisher = m.group(1)\n",
    "    \n",
    "    pages = soup.find(\"span\", itemprop = \"numberOfPages\")\n",
    "    if pages != None:\n",
    "        pages = int(pages.string.split(\" \")[0])\n",
    "    \n",
    "    book = [title, author, ave_rating, rating_cnt, review_cnt, year, pages, publisher]\n",
    "    return book\n",
    "     \n",
    "\n",
    "parse_one_book(links[0])"
   ]
  },
  {
   "cell_type": "markdown",
   "metadata": {},
   "source": [
    "### Scrape all books and export the extracted book information into a csv file"
   ]
  },
  {
   "cell_type": "markdown",
   "metadata": {},
   "source": [
    "For each page, extract all book links on this page.  For each link in one page, extract the book information from it. "
   ]
  },
  {
   "cell_type": "code",
   "execution_count": 410,
   "metadata": {},
   "outputs": [
    {
     "name": "stdout",
     "output_type": "stream",
     "text": [
      "Processing page 1...\n",
      "https://www.goodreads.com/search?page=1&q=middle+grade&tab=books\n",
      "1\n",
      "['Darkness Falls', 'Les Martin', 3.47, 401, 16, '1996', 108, 'HarperCollins']\n",
      "['Squeeze', 'Ellen Steiber', 3.58, 362, 15, '1996', 102, 'Voyager']\n",
      "['Tiger, Tiger!', 'Les Martin', 3.22, 268, 10, '1995', 112, 'Varrak']\n",
      "['Humbug', 'Les Martin', 3.41, 248, 7, '1996', 102, 'HarperEntertainment']\n",
      "['X Marks the Spot', 'Les Martin', 3.57, 497, 29, '1995', 117, 'HarperEntertainment']\n",
      "['E.B.E.', 'Les Martin', 3.3, 169, 11, '1996', 100, 'HarperEntertainment']\n",
      "['Fear', 'Les Martin', 3.38, 144, 3, '0064', None, None]\n",
      "['Voltage', 'Easton Royce', 3.3, 138, 9, '1999', 0, 'Tandem Library']\n",
      "['Shapes', 'Ellen Steiber', 3.27, 145, 6, '1996', 100, 'HarperTrophy']\n",
      "10\n",
      "['Level 6: North and South (Pearson English Graded Readers)', 'Elizabeth Gaskell', 4.13, 127283, 6390, '2016', 120, 'Pearson Education']\n",
      "['Enter: Ten Tales for Tweens: Fantastic Short Stories for Middle Grade Readers', 'M.J.  Ware', 3.57, 410, 14, '2012', 140, None]\n",
      "['Ghost in the Machine', 'Les Martin', 3.41, 90, 3, '1997', 112, 'HarperEntertainment']\n",
      "['8 Exciting Middle Grade Novels', 'Paul Moxham', 3.74, 163, 2, '2015', None, None]\n",
      "['Middle Grade', 'Allison Rushby', 0.0, 0, 0, '2688', None, None]\n",
      "['Die, Bug, Die!', 'Les Martin', 3.29, 127, 5, '1997', 102, 'HarperCollins Publishers']\n",
      "['Awesome Adventures for Kids Middle Grade Sampler', 'Various', 3.98, 54, 2, '2011', 263, 'HarperCollins']\n",
      "['Writing Irresistible KidLit: The Ultimate Guide to Crafting Fiction for Young Adult and Middle Grade Readers', 'Mary Kole', 4.5, 606, 119, '2012', 240, 'Writers Digest Books']\n",
      "['The Hobble Knobble Gobble Tree - a middle grade fantasy', 'Camille Singleton', 4.23, 13, 2, '2013', 312, 'Smashwords']\n",
      "['Holt McDougal Library, Middle School with Connections: Individual Reader Esperanza Rising', 'Holt, Rinehart, and Winston, Inc.', 3.95, 59603, 5633, '2005', 57, 'Holt McDougal']\n",
      "20\n",
      "['Summer of Firsts: Free Middle-Grade eSampler', 'Coco Simon', 3.3, 10, 0, '2011', 47, 'Simon Spotlight']\n"
     ]
    }
   ],
   "source": [
    "column_names = ['Title', 'Author', 'Ave_rating', 'Rating_cnt', 'Review_cnt', 'Year', 'Pages', 'Publisher']\n",
    "\n",
    "def scrape_books(total_pages, export_csv_file):\n",
    "    \"\"\"Scrape books from all pages\"\"\"\n",
    "    with open(export_csv_file, 'a') as write_obj:\n",
    "        writer = csv.writer(write_obj)\n",
    "        writer.writerow(column_names)\n",
    "    for page_num in np.arange(1, (total_pages + 1)):\n",
    "        print(\"Processing page \" + str(page_num) + \"...\")\n",
    "        with open(export_csv_file, 'a') as write_obj:\n",
    "            writer = csv.writer(write_obj)\n",
    "            links_of_one_page = extract_book_link_one_page(page_num)\n",
    "            print(page_num)\n",
    "            i = 0\n",
    "            for link in links_of_one_page:\n",
    "                book_info = parse_one_book(link)\n",
    "                i += 1\n",
    "                if i % 10 == 0:\n",
    "                    print(i)\n",
    "                print(book_info)\n",
    "                writer.writerow(book_info)\n",
    "            \n",
    "scrape_books = scrape_books(1, export_csv_file)\n",
    "export_csv_file = \"/Users/hao/code/GoodReadsBooksAnalysis/middle_grade_books.1.csv\"\n",
    "\n",
    "#Caution: uncomment the following lines will begin time consuming we\n",
    "#export_csv_file = \"/Users/hao/code/GoodReadsBooksAnalysis/middle_grade_books.all.csv\"\n",
    "#scrape_books = scrape_books(total_pages, export_csv_file)"
   ]
  },
  {
   "cell_type": "markdown",
   "metadata": {},
   "source": [
    "## Part 2.  Analyze the data "
   ]
  },
  {
   "cell_type": "markdown",
   "metadata": {},
   "source": [
    "### Read in the book informations from csv file"
   ]
  },
  {
   "cell_type": "code",
   "execution_count": 408,
   "metadata": {},
   "outputs": [
    {
     "data": {
      "text/html": [
       "<div>\n",
       "<style scoped>\n",
       "    .dataframe tbody tr th:only-of-type {\n",
       "        vertical-align: middle;\n",
       "    }\n",
       "\n",
       "    .dataframe tbody tr th {\n",
       "        vertical-align: top;\n",
       "    }\n",
       "\n",
       "    .dataframe thead th {\n",
       "        text-align: right;\n",
       "    }\n",
       "</style>\n",
       "<table border=\"1\" class=\"dataframe\">\n",
       "  <thead>\n",
       "    <tr style=\"text-align: right;\">\n",
       "      <th></th>\n",
       "      <th>Title</th>\n",
       "      <th>Author</th>\n",
       "      <th>Ave_rating</th>\n",
       "      <th>Rating_cnt</th>\n",
       "      <th>Review_cnt</th>\n",
       "      <th>Year</th>\n",
       "      <th>Pages</th>\n",
       "      <th>Publisher</th>\n",
       "    </tr>\n",
       "  </thead>\n",
       "  <tbody>\n",
       "    <tr>\n",
       "      <th>0</th>\n",
       "      <td>The Lightning Thief</td>\n",
       "      <td>Rick Riordan</td>\n",
       "      <td>4.24</td>\n",
       "      <td>1681546</td>\n",
       "      <td>52524</td>\n",
       "      <td>2006</td>\n",
       "      <td>377.0</td>\n",
       "      <td>Disney Hyperion Books</td>\n",
       "    </tr>\n",
       "    <tr>\n",
       "      <th>1</th>\n",
       "      <td>Harry Potter and the Sorcerer's Stone</td>\n",
       "      <td>J.K. Rowling</td>\n",
       "      <td>4.46</td>\n",
       "      <td>5849098</td>\n",
       "      <td>94003</td>\n",
       "      <td>1997</td>\n",
       "      <td>320.0</td>\n",
       "      <td>Scholastic Inc</td>\n",
       "    </tr>\n",
       "    <tr>\n",
       "      <th>2</th>\n",
       "      <td>Harry Potter and the Chamber of Secrets</td>\n",
       "      <td>J.K. Rowling</td>\n",
       "      <td>4.41</td>\n",
       "      <td>2267965</td>\n",
       "      <td>43326</td>\n",
       "      <td>1999</td>\n",
       "      <td>341.0</td>\n",
       "      <td>Arthur A. Levine Books / Scholastic Inc.</td>\n",
       "    </tr>\n",
       "    <tr>\n",
       "      <th>3</th>\n",
       "      <td>Wonder</td>\n",
       "      <td>R.J. Palacio</td>\n",
       "      <td>4.45</td>\n",
       "      <td>577657</td>\n",
       "      <td>59596</td>\n",
       "      <td>2012</td>\n",
       "      <td>315.0</td>\n",
       "      <td>Alfred A. Knopf</td>\n",
       "    </tr>\n",
       "    <tr>\n",
       "      <th>4</th>\n",
       "      <td>The Sea of Monsters</td>\n",
       "      <td>Rick Riordan</td>\n",
       "      <td>4.24</td>\n",
       "      <td>633376</td>\n",
       "      <td>23028</td>\n",
       "      <td>2006</td>\n",
       "      <td>279.0</td>\n",
       "      <td>Hyperion Books</td>\n",
       "    </tr>\n",
       "  </tbody>\n",
       "</table>\n",
       "</div>"
      ],
      "text/plain": [
       "                                     Title        Author  Ave_rating  \\\n",
       "0                      The Lightning Thief  Rick Riordan        4.24   \n",
       "1    Harry Potter and the Sorcerer's Stone  J.K. Rowling        4.46   \n",
       "2  Harry Potter and the Chamber of Secrets  J.K. Rowling        4.41   \n",
       "3                                   Wonder  R.J. Palacio        4.45   \n",
       "4                      The Sea of Monsters  Rick Riordan        4.24   \n",
       "\n",
       "   Rating_cnt  Review_cnt  Year  Pages  \\\n",
       "0     1681546       52524  2006  377.0   \n",
       "1     5849098       94003  1997  320.0   \n",
       "2     2267965       43326  1999  341.0   \n",
       "3      577657       59596  2012  315.0   \n",
       "4      633376       23028  2006  279.0   \n",
       "\n",
       "                                  Publisher  \n",
       "0                     Disney Hyperion Books  \n",
       "1                            Scholastic Inc  \n",
       "2  Arthur A. Levine Books / Scholastic Inc.  \n",
       "3                           Alfred A. Knopf  \n",
       "4                            Hyperion Books  "
      ]
     },
     "execution_count": 408,
     "metadata": {},
     "output_type": "execute_result"
    }
   ],
   "source": [
    "csv_file = \"middle_grade_books.all.csv\"\n",
    "books_df = pd.read_csv(csv_file, header=0)\n",
    "\n",
    "books_df.head()\n"
   ]
  },
  {
   "cell_type": "markdown",
   "metadata": {},
   "source": [
    "### Survey the data"
   ]
  },
  {
   "cell_type": "code",
   "execution_count": 275,
   "metadata": {},
   "outputs": [
    {
     "name": "stdout",
     "output_type": "stream",
     "text": [
      "        Ave_rating    Rating_cnt     Review_cnt         Year        Pages\n",
      "count  1247.000000  1.247000e+03    1247.000000  1247.000000  1233.000000\n",
      "mean      4.041796  8.519112e+04    3141.408982  2011.484362   289.655312\n",
      "std       0.209771  3.512931e+05    8772.599046    42.612964   169.125838\n",
      "min       3.250000  1.400000e+01      16.000000  1898.000000     0.000000\n",
      "25%       3.900000  3.472500e+03     508.000000  2006.000000   216.000000\n",
      "50%       4.030000  1.202000e+04    1016.000000  2011.000000   273.000000\n",
      "75%       4.180000  4.072850e+04    2413.000000  2015.000000   342.000000\n",
      "max       4.740000  5.849098e+06  162099.000000  3372.000000  4100.000000\n"
     ]
    },
    {
     "data": {
      "text/plain": [
       "Title          object\n",
       "Author         object\n",
       "Ave_rating    float64\n",
       "Rating_cnt      int64\n",
       "Review_cnt      int64\n",
       "Year            int64\n",
       "Pages         float64\n",
       "Publisher      object\n",
       "dtype: object"
      ]
     },
     "execution_count": 275,
     "metadata": {},
     "output_type": "execute_result"
    }
   ],
   "source": [
    "print(books_df.describe())\n",
    "books_df.dtypes"
   ]
  },
  {
   "cell_type": "markdown",
   "metadata": {},
   "source": [
    "### Draw the histogram of rating score"
   ]
  },
  {
   "cell_type": "code",
   "execution_count": 276,
   "metadata": {},
   "outputs": [
    {
     "data": {
      "text/plain": [
       "Text(0.5, 1.0, 'Histogram of Ratings of Middle Grade Books')"
      ]
     },
     "execution_count": 276,
     "metadata": {},
     "output_type": "execute_result"
    },
    {
     "data": {
      "image/png": "[encoded data removed]",
      "text/plain": [
       "<Figure size 432x288 with 1 Axes>"
      ]
     },
     "metadata": {
      "needs_background": "light"
     },
     "output_type": "display_data"
    }
   ],
   "source": [
    "plt.hist(books_df[\"Ave_rating\"], bins=np.arange(3,5,0.1), alpha = 0.8)\n",
    "plt.xlabel(\"Rating\")\n",
    "plt.ylabel(\"Count\")\n",
    "plt.title(\"Histogram of Ratings of Middle Grade Books\")"
   ]
  },
  {
   "cell_type": "markdown",
   "metadata": {},
   "source": [
    "Find books whose rating is greater than 4.5."
   ]
  },
  {
   "cell_type": "code",
   "execution_count": 277,
   "metadata": {},
   "outputs": [
    {
     "data": {
      "text/html": [
       "<div>\n",
       "<style scoped>\n",
       "    .dataframe tbody tr th:only-of-type {\n",
       "        vertical-align: middle;\n",
       "    }\n",
       "\n",
       "    .dataframe tbody tr th {\n",
       "        vertical-align: top;\n",
       "    }\n",
       "\n",
       "    .dataframe thead th {\n",
       "        text-align: right;\n",
       "    }\n",
       "</style>\n",
       "<table border=\"1\" class=\"dataframe\">\n",
       "  <thead>\n",
       "    <tr style=\"text-align: right;\">\n",
       "      <th></th>\n",
       "      <th>Title</th>\n",
       "      <th>Author</th>\n",
       "      <th>Ave_rating</th>\n",
       "      <th>Rating_cnt</th>\n",
       "      <th>Review_cnt</th>\n",
       "      <th>Year</th>\n",
       "      <th>Pages</th>\n",
       "      <th>Publisher</th>\n",
       "    </tr>\n",
       "  </thead>\n",
       "  <tbody>\n",
       "    <tr>\n",
       "      <th>5</th>\n",
       "      <td>Harry Potter and the Prisoner of Azkaban</td>\n",
       "      <td>J.K. Rowling</td>\n",
       "      <td>4.55</td>\n",
       "      <td>2316208</td>\n",
       "      <td>45509</td>\n",
       "      <td>2004</td>\n",
       "      <td>435.0</td>\n",
       "      <td>Scholastic Inc.</td>\n",
       "    </tr>\n",
       "    <tr>\n",
       "      <th>8</th>\n",
       "      <td>The Last Olympian</td>\n",
       "      <td>Rick Riordan</td>\n",
       "      <td>4.51</td>\n",
       "      <td>569812</td>\n",
       "      <td>20025</td>\n",
       "      <td>2009</td>\n",
       "      <td>381.0</td>\n",
       "      <td>Disney-Hyperion Books</td>\n",
       "    </tr>\n",
       "    <tr>\n",
       "      <th>11</th>\n",
       "      <td>Harry Potter and the Goblet of Fire</td>\n",
       "      <td>J.K. Rowling</td>\n",
       "      <td>4.55</td>\n",
       "      <td>2168131</td>\n",
       "      <td>38251</td>\n",
       "      <td>2002</td>\n",
       "      <td>734.0</td>\n",
       "      <td>Scholastic</td>\n",
       "    </tr>\n",
       "    <tr>\n",
       "      <th>15</th>\n",
       "      <td>Harry Potter and the Deathly Hallows</td>\n",
       "      <td>J.K. Rowling</td>\n",
       "      <td>4.63</td>\n",
       "      <td>2202522</td>\n",
       "      <td>58728</td>\n",
       "      <td>2007</td>\n",
       "      <td>759.0</td>\n",
       "      <td>Arthur A. Levine Books / Scholastic Inc.</td>\n",
       "    </tr>\n",
       "    <tr>\n",
       "      <th>16</th>\n",
       "      <td>Harry Potter and the Half-Blood Prince</td>\n",
       "      <td>J.K. Rowling</td>\n",
       "      <td>4.56</td>\n",
       "      <td>2070718</td>\n",
       "      <td>33240</td>\n",
       "      <td>2006</td>\n",
       "      <td>652.0</td>\n",
       "      <td>Scholastic Inc.</td>\n",
       "    </tr>\n",
       "    <tr>\n",
       "      <th>46</th>\n",
       "      <td>The House of Hades</td>\n",
       "      <td>Rick Riordan</td>\n",
       "      <td>4.55</td>\n",
       "      <td>215164</td>\n",
       "      <td>13216</td>\n",
       "      <td>2013</td>\n",
       "      <td>597.0</td>\n",
       "      <td>Disney-Hyperion Books</td>\n",
       "    </tr>\n",
       "    <tr>\n",
       "      <th>172</th>\n",
       "      <td>The War I Finally Won</td>\n",
       "      <td>Kimberly Brubaker Bradley</td>\n",
       "      <td>4.52</td>\n",
       "      <td>12704</td>\n",
       "      <td>2162</td>\n",
       "      <td>2017</td>\n",
       "      <td>387.0</td>\n",
       "      <td>Dial Books</td>\n",
       "    </tr>\n",
       "    <tr>\n",
       "      <th>202</th>\n",
       "      <td>Refugee</td>\n",
       "      <td>Alan Gratz</td>\n",
       "      <td>4.52</td>\n",
       "      <td>17429</td>\n",
       "      <td>3633</td>\n",
       "      <td>2017</td>\n",
       "      <td>352.0</td>\n",
       "      <td>Scholastic</td>\n",
       "    </tr>\n",
       "    <tr>\n",
       "      <th>247</th>\n",
       "      <td>Wundersmith: The Calling of Morrigan Crow</td>\n",
       "      <td>Jessica  Townsend</td>\n",
       "      <td>4.55</td>\n",
       "      <td>5527</td>\n",
       "      <td>1063</td>\n",
       "      <td>2018</td>\n",
       "      <td>467.0</td>\n",
       "      <td>Lothian Children's Books (Hachette Australia)</td>\n",
       "    </tr>\n",
       "    <tr>\n",
       "      <th>302</th>\n",
       "      <td>Percy Jackson's Greek Gods</td>\n",
       "      <td>Rick Riordan</td>\n",
       "      <td>4.50</td>\n",
       "      <td>40754</td>\n",
       "      <td>3215</td>\n",
       "      <td>2014</td>\n",
       "      <td>417.0</td>\n",
       "      <td>Disney Hyperion</td>\n",
       "    </tr>\n",
       "    <tr>\n",
       "      <th>320</th>\n",
       "      <td>Sweep: The Story of a Girl and Her Monster</td>\n",
       "      <td>Jonathan Auxier</td>\n",
       "      <td>4.56</td>\n",
       "      <td>2075</td>\n",
       "      <td>543</td>\n",
       "      <td>2018</td>\n",
       "      <td>368.0</td>\n",
       "      <td>Puffin Books</td>\n",
       "    </tr>\n",
       "    <tr>\n",
       "      <th>496</th>\n",
       "      <td>The Creeping Shadow</td>\n",
       "      <td>Jonathan Stroud</td>\n",
       "      <td>4.51</td>\n",
       "      <td>8404</td>\n",
       "      <td>1291</td>\n",
       "      <td>2016</td>\n",
       "      <td>445.0</td>\n",
       "      <td>Disney-Hyperion</td>\n",
       "    </tr>\n",
       "    <tr>\n",
       "      <th>502</th>\n",
       "      <td>A Grimm Warning</td>\n",
       "      <td>Chris Colfer</td>\n",
       "      <td>4.53</td>\n",
       "      <td>23854</td>\n",
       "      <td>1690</td>\n",
       "      <td>2014</td>\n",
       "      <td>448.0</td>\n",
       "      <td>Little, Brown Books for Young Readers</td>\n",
       "    </tr>\n",
       "    <tr>\n",
       "      <th>547</th>\n",
       "      <td>Exile</td>\n",
       "      <td>Shannon Messenger</td>\n",
       "      <td>4.60</td>\n",
       "      <td>10319</td>\n",
       "      <td>839</td>\n",
       "      <td>2013</td>\n",
       "      <td>576.0</td>\n",
       "      <td>Aladdin</td>\n",
       "    </tr>\n",
       "    <tr>\n",
       "      <th>562</th>\n",
       "      <td>The Remarkable Journey of Coyote Sunrise</td>\n",
       "      <td>Dan Gemeinhart</td>\n",
       "      <td>4.55</td>\n",
       "      <td>1243</td>\n",
       "      <td>381</td>\n",
       "      <td>2019</td>\n",
       "      <td>344.0</td>\n",
       "      <td>Henry Holt</td>\n",
       "    </tr>\n",
       "    <tr>\n",
       "      <th>596</th>\n",
       "      <td>Percy Jackson's Greek Heroes</td>\n",
       "      <td>Rick Riordan</td>\n",
       "      <td>4.50</td>\n",
       "      <td>19942</td>\n",
       "      <td>1385</td>\n",
       "      <td>2015</td>\n",
       "      <td>404.0</td>\n",
       "      <td>Disney - Hyperion Books</td>\n",
       "    </tr>\n",
       "    <tr>\n",
       "      <th>678</th>\n",
       "      <td>The Empty Grave</td>\n",
       "      <td>Jonathan Stroud</td>\n",
       "      <td>4.59</td>\n",
       "      <td>6609</td>\n",
       "      <td>1215</td>\n",
       "      <td>2017</td>\n",
       "      <td>448.0</td>\n",
       "      <td>NaN</td>\n",
       "    </tr>\n",
       "    <tr>\n",
       "      <th>693</th>\n",
       "      <td>Everblaze</td>\n",
       "      <td>Shannon Messenger</td>\n",
       "      <td>4.67</td>\n",
       "      <td>8336</td>\n",
       "      <td>686</td>\n",
       "      <td>2014</td>\n",
       "      <td>624.0</td>\n",
       "      <td>NaN</td>\n",
       "    </tr>\n",
       "    <tr>\n",
       "      <th>710</th>\n",
       "      <td>Beyond the Kingdoms</td>\n",
       "      <td>Chris Colfer</td>\n",
       "      <td>4.51</td>\n",
       "      <td>19299</td>\n",
       "      <td>1395</td>\n",
       "      <td>2015</td>\n",
       "      <td>433.0</td>\n",
       "      <td>NaN</td>\n",
       "    </tr>\n",
       "    <tr>\n",
       "      <th>781</th>\n",
       "      <td>Crush</td>\n",
       "      <td>Svetlana Chmakova</td>\n",
       "      <td>4.52</td>\n",
       "      <td>1942</td>\n",
       "      <td>412</td>\n",
       "      <td>2018</td>\n",
       "      <td>240.0</td>\n",
       "      <td>NaN</td>\n",
       "    </tr>\n",
       "    <tr>\n",
       "      <th>813</th>\n",
       "      <td>Neverseen</td>\n",
       "      <td>Shannon Messenger</td>\n",
       "      <td>4.70</td>\n",
       "      <td>7244</td>\n",
       "      <td>718</td>\n",
       "      <td>2015</td>\n",
       "      <td>672.0</td>\n",
       "      <td>NaN</td>\n",
       "    </tr>\n",
       "    <tr>\n",
       "      <th>835</th>\n",
       "      <td>The Darkest Hour</td>\n",
       "      <td>Erin Hunter</td>\n",
       "      <td>4.53</td>\n",
       "      <td>33765</td>\n",
       "      <td>1151</td>\n",
       "      <td>2005</td>\n",
       "      <td>315.0</td>\n",
       "      <td>NaN</td>\n",
       "    </tr>\n",
       "    <tr>\n",
       "      <th>989</th>\n",
       "      <td>Lodestar</td>\n",
       "      <td>Shannon Messenger</td>\n",
       "      <td>4.72</td>\n",
       "      <td>6001</td>\n",
       "      <td>597</td>\n",
       "      <td>2016</td>\n",
       "      <td>688.0</td>\n",
       "      <td>NaN</td>\n",
       "    </tr>\n",
       "    <tr>\n",
       "      <th>1000</th>\n",
       "      <td>Worlds Collide</td>\n",
       "      <td>Chris Colfer</td>\n",
       "      <td>4.55</td>\n",
       "      <td>9495</td>\n",
       "      <td>976</td>\n",
       "      <td>2017</td>\n",
       "      <td>480.0</td>\n",
       "      <td>NaN</td>\n",
       "    </tr>\n",
       "    <tr>\n",
       "      <th>1089</th>\n",
       "      <td>The Lost Heir</td>\n",
       "      <td>Tui T. Sutherland</td>\n",
       "      <td>4.52</td>\n",
       "      <td>13222</td>\n",
       "      <td>730</td>\n",
       "      <td>2013</td>\n",
       "      <td>296.0</td>\n",
       "      <td>NaN</td>\n",
       "    </tr>\n",
       "    <tr>\n",
       "      <th>1127</th>\n",
       "      <td>Harry Potter Series Box Set</td>\n",
       "      <td>J.K. Rowling</td>\n",
       "      <td>4.74</td>\n",
       "      <td>226765</td>\n",
       "      <td>6933</td>\n",
       "      <td>2007</td>\n",
       "      <td>4100.0</td>\n",
       "      <td>NaN</td>\n",
       "    </tr>\n",
       "    <tr>\n",
       "      <th>1176</th>\n",
       "      <td>The Bridge Home</td>\n",
       "      <td>Padma Venkatraman</td>\n",
       "      <td>4.53</td>\n",
       "      <td>412</td>\n",
       "      <td>137</td>\n",
       "      <td>2019</td>\n",
       "      <td>208.0</td>\n",
       "      <td>NaN</td>\n",
       "    </tr>\n",
       "    <tr>\n",
       "      <th>1177</th>\n",
       "      <td>Nightfall</td>\n",
       "      <td>Shannon Messenger</td>\n",
       "      <td>4.69</td>\n",
       "      <td>4609</td>\n",
       "      <td>525</td>\n",
       "      <td>2017</td>\n",
       "      <td>576.0</td>\n",
       "      <td>NaN</td>\n",
       "    </tr>\n",
       "  </tbody>\n",
       "</table>\n",
       "</div>"
      ],
      "text/plain": [
       "                                           Title                     Author  \\\n",
       "5       Harry Potter and the Prisoner of Azkaban               J.K. Rowling   \n",
       "8                              The Last Olympian               Rick Riordan   \n",
       "11           Harry Potter and the Goblet of Fire               J.K. Rowling   \n",
       "15          Harry Potter and the Deathly Hallows               J.K. Rowling   \n",
       "16        Harry Potter and the Half-Blood Prince               J.K. Rowling   \n",
       "46                            The House of Hades               Rick Riordan   \n",
       "172                        The War I Finally Won  Kimberly Brubaker Bradley   \n",
       "202                                      Refugee                 Alan Gratz   \n",
       "247    Wundersmith: The Calling of Morrigan Crow          Jessica  Townsend   \n",
       "302                   Percy Jackson's Greek Gods               Rick Riordan   \n",
       "320   Sweep: The Story of a Girl and Her Monster            Jonathan Auxier   \n",
       "496                          The Creeping Shadow            Jonathan Stroud   \n",
       "502                              A Grimm Warning               Chris Colfer   \n",
       "547                                        Exile          Shannon Messenger   \n",
       "562     The Remarkable Journey of Coyote Sunrise             Dan Gemeinhart   \n",
       "596                 Percy Jackson's Greek Heroes               Rick Riordan   \n",
       "678                              The Empty Grave            Jonathan Stroud   \n",
       "693                                    Everblaze          Shannon Messenger   \n",
       "710                          Beyond the Kingdoms               Chris Colfer   \n",
       "781                                        Crush          Svetlana Chmakova   \n",
       "813                                    Neverseen          Shannon Messenger   \n",
       "835                             The Darkest Hour                Erin Hunter   \n",
       "989                                     Lodestar          Shannon Messenger   \n",
       "1000                              Worlds Collide               Chris Colfer   \n",
       "1089                               The Lost Heir          Tui T. Sutherland   \n",
       "1127                 Harry Potter Series Box Set               J.K. Rowling   \n",
       "1176                             The Bridge Home          Padma Venkatraman   \n",
       "1177                                   Nightfall          Shannon Messenger   \n",
       "\n",
       "      Ave_rating  Rating_cnt  Review_cnt  Year   Pages  \\\n",
       "5           4.55     2316208       45509  2004   435.0   \n",
       "8           4.51      569812       20025  2009   381.0   \n",
       "11          4.55     2168131       38251  2002   734.0   \n",
       "15          4.63     2202522       58728  2007   759.0   \n",
       "16          4.56     2070718       33240  2006   652.0   \n",
       "46          4.55      215164       13216  2013   597.0   \n",
       "172         4.52       12704        2162  2017   387.0   \n",
       "202         4.52       17429        3633  2017   352.0   \n",
       "247         4.55        5527        1063  2018   467.0   \n",
       "302         4.50       40754        3215  2014   417.0   \n",
       "320         4.56        2075         543  2018   368.0   \n",
       "496         4.51        8404        1291  2016   445.0   \n",
       "502         4.53       23854        1690  2014   448.0   \n",
       "547         4.60       10319         839  2013   576.0   \n",
       "562         4.55        1243         381  2019   344.0   \n",
       "596         4.50       19942        1385  2015   404.0   \n",
       "678         4.59        6609        1215  2017   448.0   \n",
       "693         4.67        8336         686  2014   624.0   \n",
       "710         4.51       19299        1395  2015   433.0   \n",
       "781         4.52        1942         412  2018   240.0   \n",
       "813         4.70        7244         718  2015   672.0   \n",
       "835         4.53       33765        1151  2005   315.0   \n",
       "989         4.72        6001         597  2016   688.0   \n",
       "1000        4.55        9495         976  2017   480.0   \n",
       "1089        4.52       13222         730  2013   296.0   \n",
       "1127        4.74      226765        6933  2007  4100.0   \n",
       "1176        4.53         412         137  2019   208.0   \n",
       "1177        4.69        4609         525  2017   576.0   \n",
       "\n",
       "                                          Publisher  \n",
       "5                                   Scholastic Inc.  \n",
       "8                             Disney-Hyperion Books  \n",
       "11                                       Scholastic  \n",
       "15         Arthur A. Levine Books / Scholastic Inc.  \n",
       "16                                  Scholastic Inc.  \n",
       "46                            Disney-Hyperion Books  \n",
       "172                                      Dial Books  \n",
       "202                                     Scholastic   \n",
       "247   Lothian Children's Books (Hachette Australia)  \n",
       "302                                 Disney Hyperion  \n",
       "320                                    Puffin Books  \n",
       "496                                 Disney-Hyperion  \n",
       "502           Little, Brown Books for Young Readers  \n",
       "547                                         Aladdin  \n",
       "562                                      Henry Holt  \n",
       "596                         Disney - Hyperion Books  \n",
       "678                                             NaN  \n",
       "693                                             NaN  \n",
       "710                                             NaN  \n",
       "781                                             NaN  \n",
       "813                                             NaN  \n",
       "835                                             NaN  \n",
       "989                                             NaN  \n",
       "1000                                            NaN  \n",
       "1089                                            NaN  \n",
       "1127                                            NaN  \n",
       "1176                                            NaN  \n",
       "1177                                            NaN  "
      ]
     },
     "execution_count": 277,
     "metadata": {},
     "output_type": "execute_result"
    }
   ],
   "source": [
    "books_df[books_df[\"Ave_rating\"] >= 4.5]"
   ]
  },
  {
   "cell_type": "markdown",
   "metadata": {},
   "source": [
    "### Draw the distribution of rating count."
   ]
  },
  {
   "cell_type": "code",
   "execution_count": 278,
   "metadata": {},
   "outputs": [
    {
     "data": {
      "text/plain": [
       "Text(0.5, 1.0, 'Histogram of Count of Ratings of Middle Grade Books')"
      ]
     },
     "execution_count": 278,
     "metadata": {},
     "output_type": "execute_result"
    },
    {
     "data": {
      "image/png": "[encoded data removed]",
      "text/plain": [
       "<Figure size 432x288 with 1 Axes>"
      ]
     },
     "metadata": {
      "needs_background": "light"
     },
     "output_type": "display_data"
    }
   ],
   "source": [
    "plt.hist(books_df[\"Rating_cnt\"], alpha = 0.8)\n",
    "plt.xlabel(\"Rating_cnt\")\n",
    "plt.ylabel(\"Count\")\n",
    "plt.title(\"Histogram of Count of Ratings of Middle Grade Books\")"
   ]
  },
  {
   "cell_type": "markdown",
   "metadata": {},
   "source": [
    "We can see dominant amount of rating count around 0-500000.  Check whether there is data missing.  Check Whether there is some abnormal number of rating count."
   ]
  },
  {
   "cell_type": "code",
   "execution_count": 279,
   "metadata": {},
   "outputs": [
    {
     "data": {
      "text/plain": [
       "14"
      ]
     },
     "execution_count": 279,
     "metadata": {},
     "output_type": "execute_result"
    }
   ],
   "source": [
    "min(books_df[\"Rating_cnt\"])"
   ]
  },
  {
   "cell_type": "markdown",
   "metadata": {},
   "source": [
    "Let's see which book contains the most number of ratings?"
   ]
  },
  {
   "cell_type": "code",
   "execution_count": 280,
   "metadata": {},
   "outputs": [
    {
     "data": {
      "text/html": [
       "<div>\n",
       "<style scoped>\n",
       "    .dataframe tbody tr th:only-of-type {\n",
       "        vertical-align: middle;\n",
       "    }\n",
       "\n",
       "    .dataframe tbody tr th {\n",
       "        vertical-align: top;\n",
       "    }\n",
       "\n",
       "    .dataframe thead th {\n",
       "        text-align: right;\n",
       "    }\n",
       "</style>\n",
       "<table border=\"1\" class=\"dataframe\">\n",
       "  <thead>\n",
       "    <tr style=\"text-align: right;\">\n",
       "      <th></th>\n",
       "      <th>Title</th>\n",
       "      <th>Author</th>\n",
       "      <th>Ave_rating</th>\n",
       "      <th>Rating_cnt</th>\n",
       "      <th>Review_cnt</th>\n",
       "      <th>Year</th>\n",
       "      <th>Pages</th>\n",
       "      <th>Publisher</th>\n",
       "    </tr>\n",
       "  </thead>\n",
       "  <tbody>\n",
       "    <tr>\n",
       "      <th>1</th>\n",
       "      <td>Harry Potter and the Sorcerer's Stone</td>\n",
       "      <td>J.K. Rowling</td>\n",
       "      <td>4.46</td>\n",
       "      <td>5849098</td>\n",
       "      <td>94003</td>\n",
       "      <td>1997</td>\n",
       "      <td>320.0</td>\n",
       "      <td>Scholastic Inc</td>\n",
       "    </tr>\n",
       "  </tbody>\n",
       "</table>\n",
       "</div>"
      ],
      "text/plain": [
       "                                   Title        Author  Ave_rating  \\\n",
       "1  Harry Potter and the Sorcerer's Stone  J.K. Rowling        4.46   \n",
       "\n",
       "   Rating_cnt  Review_cnt  Year  Pages       Publisher  \n",
       "1     5849098       94003  1997  320.0  Scholastic Inc  "
      ]
     },
     "execution_count": 280,
     "metadata": {},
     "output_type": "execute_result"
    }
   ],
   "source": [
    "books_df[books_df[\"Rating_cnt\"] == np.max(books_df[\"Rating_cnt\"])]"
   ]
  },
  {
   "cell_type": "markdown",
   "metadata": {},
   "source": [
    "Let's take a closer look into those rating count greater than 1000000."
   ]
  },
  {
   "cell_type": "code",
   "execution_count": 281,
   "metadata": {},
   "outputs": [
    {
     "data": {
      "text/plain": [
       "Text(0.5, 1.0, 'Histogram of Count of Ratings less than 10e+6')"
      ]
     },
     "execution_count": 281,
     "metadata": {},
     "output_type": "execute_result"
    },
    {
     "data": {
      "image/png": "[encoded data removed]",
      "text/plain": [
       "<Figure size 432x288 with 1 Axes>"
      ]
     },
     "metadata": {
      "needs_background": "light"
     },
     "output_type": "display_data"
    }
   ],
   "source": [
    "tmp_df = books_df.loc[books_df[\"Rating_cnt\"] > 1000000]\n",
    "\n",
    "plt.hist(tmp_df[\"Rating_cnt\"])\n",
    "plt.xlabel(\"Rating_cnt\")\n",
    "plt.ylabel(\"Count\")\n",
    "plt.title(\"Histogram of Count of Ratings less than 10e+6\")"
   ]
  },
  {
   "cell_type": "code",
   "execution_count": 285,
   "metadata": {},
   "outputs": [
    {
     "data": {
      "text/html": [
       "<div>\n",
       "<style scoped>\n",
       "    .dataframe tbody tr th:only-of-type {\n",
       "        vertical-align: middle;\n",
       "    }\n",
       "\n",
       "    .dataframe tbody tr th {\n",
       "        vertical-align: top;\n",
       "    }\n",
       "\n",
       "    .dataframe thead th {\n",
       "        text-align: right;\n",
       "    }\n",
       "</style>\n",
       "<table border=\"1\" class=\"dataframe\">\n",
       "  <thead>\n",
       "    <tr style=\"text-align: right;\">\n",
       "      <th></th>\n",
       "      <th>Title</th>\n",
       "      <th>Author</th>\n",
       "      <th>Ave_rating</th>\n",
       "      <th>Rating_cnt</th>\n",
       "      <th>Review_cnt</th>\n",
       "      <th>Year</th>\n",
       "      <th>Pages</th>\n",
       "      <th>Publisher</th>\n",
       "    </tr>\n",
       "  </thead>\n",
       "  <tbody>\n",
       "    <tr>\n",
       "      <th>1003</th>\n",
       "      <td>To Kill a Mockingbird</td>\n",
       "      <td>Harper Lee</td>\n",
       "      <td>4.27</td>\n",
       "      <td>3877888</td>\n",
       "      <td>82291</td>\n",
       "      <td>2006</td>\n",
       "      <td>324.0</td>\n",
       "      <td>NaN</td>\n",
       "    </tr>\n",
       "  </tbody>\n",
       "</table>\n",
       "</div>"
      ],
      "text/plain": [
       "                      Title      Author  Ave_rating  Rating_cnt  Review_cnt  \\\n",
       "1003  To Kill a Mockingbird  Harper Lee        4.27     3877888       82291   \n",
       "\n",
       "      Year  Pages Publisher  \n",
       "1003  2006  324.0       NaN  "
      ]
     },
     "execution_count": 285,
     "metadata": {},
     "output_type": "execute_result"
    }
   ],
   "source": [
    "books_df[(books_df[\"Rating_cnt\"] > 3000000) & (books_df[\"Rating_cnt\"] < 4000000)]"
   ]
  },
  {
   "cell_type": "markdown",
   "metadata": {},
   "source": [
    "## Is rating count correlated to review count?"
   ]
  },
  {
   "cell_type": "code",
   "execution_count": 286,
   "metadata": {},
   "outputs": [
    {
     "data": {
      "text/plain": [
       "Text(0.5, 1.0, 'Relation between Rating Count and Review Count')"
      ]
     },
     "execution_count": 286,
     "metadata": {},
     "output_type": "execute_result"
    },
    {
     "data": {
      "image/png": "[encoded data removed]",
      "text/plain": [
       "<Figure size 432x288 with 1 Axes>"
      ]
     },
     "metadata": {
      "needs_background": "light"
     },
     "output_type": "display_data"
    }
   ],
   "source": [
    "plt.scatter(books_df[\"Rating_cnt\"], books_df[\"Review_cnt\"], s= 10)\n",
    "plt.xlabel(\"Rating Count\")\n",
    "plt.ylabel(\"Review Count\")\n",
    "plt.title(\"Relation between Rating Count and Review Count\")\n",
    "\n",
    "#Remove the outlier\n",
    "#plt.xlim(0, 2500000)\n",
    "#plt.ylim(0, 70000)\n"
   ]
  },
  {
   "cell_type": "markdown",
   "metadata": {},
   "source": [
    "Are Rating count and Review count related to each other?"
   ]
  },
  {
   "cell_type": "code",
   "execution_count": 287,
   "metadata": {},
   "outputs": [
    {
     "name": "stdout",
     "output_type": "stream",
     "text": [
      "(0.8771907967391017, 0.0)\n",
      "(0.8286520052048375, 1.60826915e-315)\n"
     ]
    }
   ],
   "source": [
    "from scipy.stats.stats import pearsonr \n",
    "print(pearsonr(books_df[\"Rating_cnt\"], books_df[\"Review_cnt\"]))\n",
    "\n",
    "#Remove the \"outlier\"\n",
    "data = books_df.loc[books_df[\"Rating_cnt\"] < 5000000]\n",
    "print(pearsonr(data[\"Rating_cnt\"], data[\"Review_cnt\"]))"
   ]
  },
  {
   "cell_type": "markdown",
   "metadata": {},
   "source": [
    "### Does Rating count and Review count be fit in linear regression?"
   ]
  },
  {
   "cell_type": "code",
   "execution_count": 288,
   "metadata": {},
   "outputs": [
    {
     "name": "stdout",
     "output_type": "stream",
     "text": [
      "(1245, 1)\n",
      "(933, 1)\n",
      "Coefficients: \n",
      " [[0.02268694]]\n",
      "Mean squared error: 11697654.89\n",
      "Variance score: 0.75\n"
     ]
    },
    {
     "data": {
      "image/png": "[encoded data removed]",
      "text/plain": [
       "<Figure size 432x288 with 1 Axes>"
      ]
     },
     "metadata": {
      "needs_background": "light"
     },
     "output_type": "display_data"
    }
   ],
   "source": [
    "from sklearn import datasets, linear_model\n",
    "from sklearn.metrics import mean_squared_error, r2_score\n",
    "from sklearn.model_selection import train_test_split\n",
    "\n",
    "data = books_df[books_df[\"Rating_cnt\"] < 5000000]\n",
    "X = data[\"Rating_cnt\"].values.reshape(-1, 1)\n",
    "y = data[\"Review_cnt\"].values.reshape(-1, 1)\n",
    "print(X.shape)\n",
    "\n",
    "#Split the data set into training part and testing part\n",
    "train_X, val_X, train_y, val_y = train_test_split(X, y, random_state = 0)\n",
    "print(train_X.shape)\n",
    "\n",
    "# Create linear regression object\n",
    "regr = linear_model.LinearRegression()\n",
    "\n",
    "# Train the model using the training sets\n",
    "regr.fit(train_X, train_y)\n",
    "\n",
    "# Make predictions using the testing set\n",
    "pred_y = regr.predict(val_X)\n",
    "\n",
    "# The coefficients\n",
    "print('Coefficients: \\n', regr.coef_)\n",
    "# The mean squared error\n",
    "print(\"Mean squared error: %.2f\"\n",
    "      % mean_squared_error(val_y, pred_y))\n",
    "# Explained variance score: 1 is perfect prediction\n",
    "print('Variance score: %.2f' % r2_score(val_y, pred_y))\n",
    "\n",
    "# Plot outputs\n",
    "plt.scatter(val_X, val_y)\n",
    "plt.plot(val_X, pred_y, color='blue', linewidth=3)\n",
    "plt.title(\"Linear regression between rating count and review count\")\n",
    "plt.xlabel(\"Rating Count\")\n",
    "plt.ylabel(\"Review Count\")\n",
    "plt.show()"
   ]
  },
  {
   "cell_type": "markdown",
   "metadata": {},
   "source": [
    "### Find the authors with top 10 number of books"
   ]
  },
  {
   "cell_type": "code",
   "execution_count": 364,
   "metadata": {},
   "outputs": [
    {
     "name": "stdout",
     "output_type": "stream",
     "text": [
      "                     Ave_rating Rating_cnt Review_cnt  Year             Pages  \\\n",
      "                        average        sum        sum  amin  amax     average   \n",
      "Author                                                                          \n",
      "Rick Riordan           4.297241    6931870     278128  2006  2018  366.689655   \n",
      "Lemony Snicket         3.978889    1695646      57478  1999  2015  267.388889   \n",
      "Roald Dahl             4.007692    2489853      64152  1997  2005  152.846154   \n",
      "Brandon Mull           4.214167     561849      33042  2006  2017  444.750000   \n",
      "Sharon Creech          3.929091     244449      18093  1996  2018  217.727273   \n",
      "Erin Hunter            4.367273     365489      13968  2004  2007  320.272727   \n",
      "Eoin Colfer            4.020000    1126584      25974  2003  2017  343.400000   \n",
      "Laura Ingalls Wilder   4.151000    1013617      20014  1953  2008  551.600000   \n",
      "Jeff Kinney            4.187000     994655      50790  2007  2015  220.700000   \n",
      "Beverly Cleary         4.006000     468439      10311  1982  2014  171.100000   \n",
      "\n",
      "                                                                  Title  \\\n",
      "                                                               <lambda>   \n",
      "Author                                                                    \n",
      "Rick Riordan          [The Lightning Thief, The Sea of Monsters, The...   \n",
      "Lemony Snicket        [The Bad Beginning, The Reptile Room, The Wide...   \n",
      "Roald Dahl            [Matilda, Charlie and the Chocolate Factory, T...   \n",
      "Brandon Mull          [Fablehaven, Rise of the Evening Star, Grip of...   \n",
      "Sharon Creech         [Walk Two Moons, Love That Dog, Moo, The Great...   \n",
      "Erin Hunter           [Into the Wild, Fire and Ice, Forest of Secret...   \n",
      "Eoin Colfer           [Artemis Fowl, The Arctic Incident, The Eterni...   \n",
      "Laura Ingalls Wilder  [Little House in the Big Woods, Little House o...   \n",
      "Jeff Kinney           [Diary of a Wimpy Kid, Rodrick Rules, The Last...   \n",
      "Beverly Cleary        [Beezus and Ramona, Ramona Quimby, Age 8, Dear...   \n",
      "\n",
      "                     Book_cnt  \n",
      "                               \n",
      "Author                         \n",
      "Rick Riordan               29  \n",
      "Lemony Snicket             18  \n",
      "Roald Dahl                 13  \n",
      "Brandon Mull               12  \n",
      "Sharon Creech              11  \n",
      "Erin Hunter                11  \n",
      "Eoin Colfer                10  \n",
      "Laura Ingalls Wilder       10  \n",
      "Jeff Kinney                10  \n",
      "Beverly Cleary             10  \n"
     ]
    }
   ],
   "source": [
    "#Group books_df by \"Author\"\n",
    "df = books_df.groupby(\"Author\")\n",
    "book_num_col = df[\"Author\"].size().to_frame(name=\"Book_cnt\")\n",
    "\n",
    "df_new = df.agg({'Ave_rating': np.average, 'Rating_cnt':np.sum, 'Review_cnt' : np.sum,\n",
    "                 'Year': [np.min, np.max], 'Pages': np.average, 'Title' : lambda x : list(x)})\n",
    "#Add a new column book count and sort by it descendingly\n",
    "df_new[\"Book_cnt\"] = book_num_col\n",
    "df_new = df_new.sort_values(by=[\"Book_cnt\"], ascending=False)\n",
    "print(df_new.head(10))\n",
    "\n"
   ]
  },
  {
   "cell_type": "markdown",
   "metadata": {},
   "source": [
    "Roald Dahl is my son's favorite. Rick Riordan has more books than Roald Dahl and even better average rating score. So Rich Riordan will be our next trial."
   ]
  },
  {
   "cell_type": "markdown",
   "metadata": {},
   "source": [
    "### Select good books with high rating count and review count"
   ]
  },
  {
   "cell_type": "code",
   "execution_count": 365,
   "metadata": {},
   "outputs": [
    {
     "data": {
      "text/html": [
       "<div>\n",
       "<style scoped>\n",
       "    .dataframe tbody tr th:only-of-type {\n",
       "        vertical-align: middle;\n",
       "    }\n",
       "\n",
       "    .dataframe tbody tr th {\n",
       "        vertical-align: top;\n",
       "    }\n",
       "\n",
       "    .dataframe thead th {\n",
       "        text-align: right;\n",
       "    }\n",
       "</style>\n",
       "<table border=\"1\" class=\"dataframe\">\n",
       "  <thead>\n",
       "    <tr style=\"text-align: right;\">\n",
       "      <th></th>\n",
       "      <th>Ave_rating</th>\n",
       "      <th>Rating_cnt</th>\n",
       "      <th>Review_cnt</th>\n",
       "      <th>Year</th>\n",
       "      <th>Pages</th>\n",
       "    </tr>\n",
       "  </thead>\n",
       "  <tbody>\n",
       "    <tr>\n",
       "      <th>count</th>\n",
       "      <td>1247.000000</td>\n",
       "      <td>1.247000e+03</td>\n",
       "      <td>1247.000000</td>\n",
       "      <td>1247.000000</td>\n",
       "      <td>1233.000000</td>\n",
       "    </tr>\n",
       "    <tr>\n",
       "      <th>mean</th>\n",
       "      <td>4.041796</td>\n",
       "      <td>8.519112e+04</td>\n",
       "      <td>3141.408982</td>\n",
       "      <td>2011.484362</td>\n",
       "      <td>289.655312</td>\n",
       "    </tr>\n",
       "    <tr>\n",
       "      <th>std</th>\n",
       "      <td>0.209771</td>\n",
       "      <td>3.512931e+05</td>\n",
       "      <td>8772.599046</td>\n",
       "      <td>42.612964</td>\n",
       "      <td>169.125838</td>\n",
       "    </tr>\n",
       "    <tr>\n",
       "      <th>min</th>\n",
       "      <td>3.250000</td>\n",
       "      <td>1.400000e+01</td>\n",
       "      <td>16.000000</td>\n",
       "      <td>1898.000000</td>\n",
       "      <td>0.000000</td>\n",
       "    </tr>\n",
       "    <tr>\n",
       "      <th>25%</th>\n",
       "      <td>3.900000</td>\n",
       "      <td>3.472500e+03</td>\n",
       "      <td>508.000000</td>\n",
       "      <td>2006.000000</td>\n",
       "      <td>216.000000</td>\n",
       "    </tr>\n",
       "    <tr>\n",
       "      <th>50%</th>\n",
       "      <td>4.030000</td>\n",
       "      <td>1.202000e+04</td>\n",
       "      <td>1016.000000</td>\n",
       "      <td>2011.000000</td>\n",
       "      <td>273.000000</td>\n",
       "    </tr>\n",
       "    <tr>\n",
       "      <th>75%</th>\n",
       "      <td>4.180000</td>\n",
       "      <td>4.072850e+04</td>\n",
       "      <td>2413.000000</td>\n",
       "      <td>2015.000000</td>\n",
       "      <td>342.000000</td>\n",
       "    </tr>\n",
       "    <tr>\n",
       "      <th>max</th>\n",
       "      <td>4.740000</td>\n",
       "      <td>5.849098e+06</td>\n",
       "      <td>162099.000000</td>\n",
       "      <td>3372.000000</td>\n",
       "      <td>4100.000000</td>\n",
       "    </tr>\n",
       "  </tbody>\n",
       "</table>\n",
       "</div>"
      ],
      "text/plain": [
       "        Ave_rating    Rating_cnt     Review_cnt         Year        Pages\n",
       "count  1247.000000  1.247000e+03    1247.000000  1247.000000  1233.000000\n",
       "mean      4.041796  8.519112e+04    3141.408982  2011.484362   289.655312\n",
       "std       0.209771  3.512931e+05    8772.599046    42.612964   169.125838\n",
       "min       3.250000  1.400000e+01      16.000000  1898.000000     0.000000\n",
       "25%       3.900000  3.472500e+03     508.000000  2006.000000   216.000000\n",
       "50%       4.030000  1.202000e+04    1016.000000  2011.000000   273.000000\n",
       "75%       4.180000  4.072850e+04    2413.000000  2015.000000   342.000000\n",
       "max       4.740000  5.849098e+06  162099.000000  3372.000000  4100.000000"
      ]
     },
     "execution_count": 365,
     "metadata": {},
     "output_type": "execute_result"
    }
   ],
   "source": [
    "books_df.describe()"
   ]
  },
  {
   "cell_type": "markdown",
   "metadata": {},
   "source": [
    "### Find good books with both top 25% review count and top 25% rating count"
   ]
  },
  {
   "cell_type": "code",
   "execution_count": 369,
   "metadata": {},
   "outputs": [
    {
     "data": {
      "text/html": [
       "<div>\n",
       "<style scoped>\n",
       "    .dataframe tbody tr th:only-of-type {\n",
       "        vertical-align: middle;\n",
       "    }\n",
       "\n",
       "    .dataframe tbody tr th {\n",
       "        vertical-align: top;\n",
       "    }\n",
       "\n",
       "    .dataframe thead th {\n",
       "        text-align: right;\n",
       "    }\n",
       "</style>\n",
       "<table border=\"1\" class=\"dataframe\">\n",
       "  <thead>\n",
       "    <tr style=\"text-align: right;\">\n",
       "      <th></th>\n",
       "      <th>Title</th>\n",
       "      <th>Author</th>\n",
       "      <th>Ave_rating</th>\n",
       "      <th>Rating_cnt</th>\n",
       "      <th>Review_cnt</th>\n",
       "      <th>Year</th>\n",
       "      <th>Pages</th>\n",
       "      <th>Publisher</th>\n",
       "    </tr>\n",
       "  </thead>\n",
       "  <tbody>\n",
       "    <tr>\n",
       "      <th>1127</th>\n",
       "      <td>Harry Potter Series Box Set</td>\n",
       "      <td>J.K. Rowling</td>\n",
       "      <td>4.74</td>\n",
       "      <td>226765</td>\n",
       "      <td>6933</td>\n",
       "      <td>2007</td>\n",
       "      <td>4100.0</td>\n",
       "      <td>NaN</td>\n",
       "    </tr>\n",
       "    <tr>\n",
       "      <th>15</th>\n",
       "      <td>Harry Potter and the Deathly Hallows</td>\n",
       "      <td>J.K. Rowling</td>\n",
       "      <td>4.63</td>\n",
       "      <td>2202522</td>\n",
       "      <td>58728</td>\n",
       "      <td>2007</td>\n",
       "      <td>759.0</td>\n",
       "      <td>Arthur A. Levine Books / Scholastic Inc.</td>\n",
       "    </tr>\n",
       "    <tr>\n",
       "      <th>16</th>\n",
       "      <td>Harry Potter and the Half-Blood Prince</td>\n",
       "      <td>J.K. Rowling</td>\n",
       "      <td>4.56</td>\n",
       "      <td>2070718</td>\n",
       "      <td>33240</td>\n",
       "      <td>2006</td>\n",
       "      <td>652.0</td>\n",
       "      <td>Scholastic Inc.</td>\n",
       "    </tr>\n",
       "    <tr>\n",
       "      <th>5</th>\n",
       "      <td>Harry Potter and the Prisoner of Azkaban</td>\n",
       "      <td>J.K. Rowling</td>\n",
       "      <td>4.55</td>\n",
       "      <td>2316208</td>\n",
       "      <td>45509</td>\n",
       "      <td>2004</td>\n",
       "      <td>435.0</td>\n",
       "      <td>Scholastic Inc.</td>\n",
       "    </tr>\n",
       "    <tr>\n",
       "      <th>46</th>\n",
       "      <td>The House of Hades</td>\n",
       "      <td>Rick Riordan</td>\n",
       "      <td>4.55</td>\n",
       "      <td>215164</td>\n",
       "      <td>13216</td>\n",
       "      <td>2013</td>\n",
       "      <td>597.0</td>\n",
       "      <td>Disney-Hyperion Books</td>\n",
       "    </tr>\n",
       "    <tr>\n",
       "      <th>11</th>\n",
       "      <td>Harry Potter and the Goblet of Fire</td>\n",
       "      <td>J.K. Rowling</td>\n",
       "      <td>4.55</td>\n",
       "      <td>2168131</td>\n",
       "      <td>38251</td>\n",
       "      <td>2002</td>\n",
       "      <td>734.0</td>\n",
       "      <td>Scholastic</td>\n",
       "    </tr>\n",
       "    <tr>\n",
       "      <th>8</th>\n",
       "      <td>The Last Olympian</td>\n",
       "      <td>Rick Riordan</td>\n",
       "      <td>4.51</td>\n",
       "      <td>569812</td>\n",
       "      <td>20025</td>\n",
       "      <td>2009</td>\n",
       "      <td>381.0</td>\n",
       "      <td>Disney-Hyperion Books</td>\n",
       "    </tr>\n",
       "    <tr>\n",
       "      <th>302</th>\n",
       "      <td>Percy Jackson's Greek Gods</td>\n",
       "      <td>Rick Riordan</td>\n",
       "      <td>4.50</td>\n",
       "      <td>40754</td>\n",
       "      <td>3215</td>\n",
       "      <td>2014</td>\n",
       "      <td>417.0</td>\n",
       "      <td>Disney Hyperion</td>\n",
       "    </tr>\n",
       "    <tr>\n",
       "      <th>12</th>\n",
       "      <td>Harry Potter and the Order of the Phoenix</td>\n",
       "      <td>J.K. Rowling</td>\n",
       "      <td>4.49</td>\n",
       "      <td>2122600</td>\n",
       "      <td>35118</td>\n",
       "      <td>2004</td>\n",
       "      <td>870.0</td>\n",
       "      <td>Scholastic Inc.</td>\n",
       "    </tr>\n",
       "    <tr>\n",
       "      <th>39</th>\n",
       "      <td>The Mark of Athena</td>\n",
       "      <td>Rick Riordan</td>\n",
       "      <td>4.46</td>\n",
       "      <td>393941</td>\n",
       "      <td>14801</td>\n",
       "      <td>2012</td>\n",
       "      <td>586.0</td>\n",
       "      <td>Disney-Hyperion Books</td>\n",
       "    </tr>\n",
       "  </tbody>\n",
       "</table>\n",
       "</div>"
      ],
      "text/plain": [
       "                                          Title        Author  Ave_rating  \\\n",
       "1127                Harry Potter Series Box Set  J.K. Rowling        4.74   \n",
       "15         Harry Potter and the Deathly Hallows  J.K. Rowling        4.63   \n",
       "16       Harry Potter and the Half-Blood Prince  J.K. Rowling        4.56   \n",
       "5      Harry Potter and the Prisoner of Azkaban  J.K. Rowling        4.55   \n",
       "46                           The House of Hades  Rick Riordan        4.55   \n",
       "11          Harry Potter and the Goblet of Fire  J.K. Rowling        4.55   \n",
       "8                             The Last Olympian  Rick Riordan        4.51   \n",
       "302                  Percy Jackson's Greek Gods  Rick Riordan        4.50   \n",
       "12    Harry Potter and the Order of the Phoenix  J.K. Rowling        4.49   \n",
       "39                           The Mark of Athena  Rick Riordan        4.46   \n",
       "\n",
       "      Rating_cnt  Review_cnt  Year   Pages  \\\n",
       "1127      226765        6933  2007  4100.0   \n",
       "15       2202522       58728  2007   759.0   \n",
       "16       2070718       33240  2006   652.0   \n",
       "5        2316208       45509  2004   435.0   \n",
       "46        215164       13216  2013   597.0   \n",
       "11       2168131       38251  2002   734.0   \n",
       "8         569812       20025  2009   381.0   \n",
       "302        40754        3215  2014   417.0   \n",
       "12       2122600       35118  2004   870.0   \n",
       "39        393941       14801  2012   586.0   \n",
       "\n",
       "                                     Publisher  \n",
       "1127                                       NaN  \n",
       "15    Arthur A. Levine Books / Scholastic Inc.  \n",
       "16                             Scholastic Inc.  \n",
       "5                              Scholastic Inc.  \n",
       "46                       Disney-Hyperion Books  \n",
       "11                                  Scholastic  \n",
       "8                        Disney-Hyperion Books  \n",
       "302                            Disney Hyperion  \n",
       "12                             Scholastic Inc.  \n",
       "39                       Disney-Hyperion Books  "
      ]
     },
     "execution_count": 369,
     "metadata": {},
     "output_type": "execute_result"
    }
   ],
   "source": [
    "good_books = books_df[(books_df[\"Rating_cnt\"] > 4.072850e+04) & (books_df[\"Review_cnt\"] > 2413)]\n",
    "good_books = good_books.sort_values(by=\"Ave_rating\", ascending=False)\n",
    "good_books.head(10)"
   ]
  },
  {
   "cell_type": "markdown",
   "metadata": {},
   "source": [
    "I noticed \"Percy Jackson's Greek Gods\" has lower rating count and review count while pretty good average rating. But the low rating count may be due to the published year is 2014, much later than J.K.Rowling's books. Luckily, I am looking for a good book about Greek gods and heros for my son recently. This one will be a definitely hit."
   ]
  },
  {
   "cell_type": "markdown",
   "metadata": {},
   "source": [
    "### Who is publisher with high quality publications?"
   ]
  },
  {
   "cell_type": "markdown",
   "metadata": {},
   "source": [
    "Count number of books in good books set for each publisher."
   ]
  },
  {
   "cell_type": "code",
   "execution_count": 396,
   "metadata": {},
   "outputs": [
    {
     "data": {
      "image/png": "[encoded data removed]",
      "text/plain": [
       "<Figure size 1440x720 with 1 Axes>"
      ]
     },
     "metadata": {
      "needs_background": "light"
     },
     "output_type": "display_data"
    },
    {
     "name": "stdout",
     "output_type": "stream",
     "text": [
      "36\n"
     ]
    }
   ],
   "source": [
    "df = good_books.groupby(\"Publisher\").size().to_frame(name=\"Book_cnt\")\n",
    "df = df.sort_values(by=\"Book_cnt\", ascending=False)\n",
    "df = df[df[\"Book_cnt\"] >=2]\n",
    "\n",
    "plt.figure(figsize=(20, 10)) \n",
    "plt.bar(x=df.index, height=df[\"Book_cnt\"], width = 0.8)\n",
    "\n",
    "plt.xticks(rotation='vertical', fontsize=15)\n",
    "plt.yticks(fontsize = 15)\n",
    "plt.xlabel(\"Publisher\", fontsize=20)\n",
    "plt.ylabel(\"Number of Good Middle Grade Books\", fontsize=20)\n",
    "plt.title(\"Number of Good Middle Grade Books Published by Different Publishers\", fontsize=25)\n",
    "plt.show()\n",
    "print(len(df))"
   ]
  },
  {
   "cell_type": "markdown",
   "metadata": {},
   "source": [
    "## Conclusions"
   ]
  },
  {
   "cell_type": "markdown",
   "metadata": {},
   "source": [
    "J.K Rowling's Harry Potter Series are dominant winner of popular middle grade books with wide readers and good reviews. Another author Rick Riordan is an author I don't know before. But I will keep eyes on his works. \n",
    "\n",
    "The number of reveiw count is correlated with rating count. This is unsuprised.  \n",
    "\n",
    "Next work is to see whether there is relationship between average rating and review count. Normally, better books should attrack more people to write review for them. \n",
    "\n",
    "Building a machine learning model to find similar books as my son's like. \n",
    "Extract review contents, find high frequency words, build a model based on it. Input the reviews of new books and find out similar one. \n",
    "\n",
    "Normalize the score by count of"
   ]
  }
 ],
 "metadata": {
  "kernelspec": {
   "display_name": "Python 3",
   "language": "python",
   "name": "python3"
  },
  "language_info": {
   "codemirror_mode": {
    "name": "ipython",
    "version": 3
   },
   "file_extension": ".py",
   "mimetype": "text/x-python",
   "name": "python",
   "nbconvert_exporter": "python",
   "pygments_lexer": "ipython3",
   "version": "3.7.1"
  }
 },
 "nbformat": 4,
 "nbformat_minor": 2
}
