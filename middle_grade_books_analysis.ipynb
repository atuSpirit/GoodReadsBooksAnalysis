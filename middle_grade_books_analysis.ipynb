{
 "cells": [
  {
   "cell_type": "code",
   "execution_count": 126,
   "metadata": {},
   "outputs": [],
   "source": [
    "import urllib\n",
    "import bs4 \n",
    "import numpy as np\n",
    "import pandas as pd\n"
   ]
  },
  {
   "cell_type": "code",
   "execution_count": 68,
   "metadata": {},
   "outputs": [],
   "source": [
    "url = \"https://www.goodreads.com/shelf/show/middle-grade\"\n",
    "source = urllib.request.urlopen(url).read()\n",
    "soup = bs4.BeautifulSoup(source, 'html.parser')\n"
   ]
  },
  {
   "cell_type": "code",
   "execution_count": 118,
   "metadata": {},
   "outputs": [
    {
     "name": "stdout",
     "output_type": "stream",
     "text": [
      "book number:45121\n",
      "Number of pages: 903\n"
     ]
    }
   ],
   "source": [
    "#Extract the total number of books in middle-grade shelf\n",
    "book_num_string = soup.find('span', class_='smallText').string.rstrip()\n",
    "#print(book_num_string)\n",
    "book_num_fields = book_num_string.split(' ')[-1].split(',')\n",
    "book_num = int(\"\".join(book_num_fields))\n",
    "print(\"book number:\" + str(book_num))\n",
    "\n",
    "#Compute the number of pages we need to crawl to get all books\n",
    "num_per_page = 50\n",
    "pages = int(book_num / num_per_page) + 1\n",
    "print(\"Number of pages: \" + str(pages))\n"
   ]
  },
  {
   "cell_type": "code",
   "execution_count": 116,
   "metadata": {
    "scrolled": false
   },
   "outputs": [
    {
     "name": "stdout",
     "output_type": "stream",
     "text": [
      "50\n"
     ]
    }
   ],
   "source": [
    "def extract_book_link_one_page(page_num):\n",
    "    \"\"\"Extract the book links in the page with index page_num\"\"\"\n",
    "    \n",
    "    url = \"https://www.goodreads.com/shelf/show/middle-grade?page=\" + str(page_num)\n",
    "    html_page = urllib.request.urlopen(url).read()\n",
    "    soup = bs4.BeautifulSoup(html_page, 'html.parser')\n",
    "    \n",
    "    #Extract links for books\n",
    "    domain_name = \"https://www.goodreads.com\"\n",
    "    links_of_one_page = [domain_name + a.get(\"href\") for a in soup.find_all('a', class_= \"bookTitle\")]\n",
    "    return links_of_one_page\n",
    "\n",
    "links = extract_book_link_one_page(1)\n",
    "print(len(links))\n"
   ]
  },
  {
   "cell_type": "code",
   "execution_count": 124,
   "metadata": {},
   "outputs": [
    {
     "name": "stdout",
     "output_type": "stream",
     "text": [
      "https://www.goodreads.com/book/show/28187.The_Lightning_Thief\n"
     ]
    }
   ],
   "source": [
    "print(links[0])"
   ]
  },
  {
   "cell_type": "code",
   "execution_count": 131,
   "metadata": {},
   "outputs": [
    {
     "ename": "AttributeError",
     "evalue": "module 'pandas' has no attribute 'DataFrame'",
     "output_type": "error",
     "traceback": [
      "\u001b[0;31m---------------------------------------------------------------------------\u001b[0m",
      "\u001b[0;31mAttributeError\u001b[0m                            Traceback (most recent call last)",
      "\u001b[0;32m<ipython-input-131-315c96d132e0>\u001b[0m in \u001b[0;36m<module>\u001b[0;34m()\u001b[0m\n\u001b[1;32m      1\u001b[0m \u001b[0mcolumn_names\u001b[0m \u001b[0;34m=\u001b[0m \u001b[0;34m[\u001b[0m\u001b[0;34m'Title'\u001b[0m\u001b[0;34m,\u001b[0m \u001b[0;34m'Author'\u001b[0m\u001b[0;34m,\u001b[0m \u001b[0;34m'ISBN'\u001b[0m\u001b[0;34m,\u001b[0m \u001b[0;34m'Ave_Rating'\u001b[0m\u001b[0;34m,\u001b[0m \u001b[0;34m'Rating_num'\u001b[0m\u001b[0;34m,\u001b[0m \u001b[0;34m'Review_num'\u001b[0m\u001b[0;34m,\u001b[0m \u001b[0;34m'Year'\u001b[0m\u001b[0;34m,\u001b[0m \u001b[0;34m'Pages'\u001b[0m\u001b[0;34m,\u001b[0m \u001b[0;34m'Publisher'\u001b[0m\u001b[0;34m]\u001b[0m\u001b[0;34m\u001b[0m\u001b[0m\n\u001b[0;32m----> 2\u001b[0;31m \u001b[0mbooks_df\u001b[0m \u001b[0;34m=\u001b[0m \u001b[0mpd\u001b[0m\u001b[0;34m.\u001b[0m\u001b[0mDataFrame\u001b[0m\u001b[0;34m(\u001b[0m\u001b[0;34m)\u001b[0m\u001b[0;34m\u001b[0m\u001b[0m\n\u001b[0m",
      "\u001b[0;31mAttributeError\u001b[0m: module 'pandas' has no attribute 'DataFrame'"
     ]
    }
   ],
   "source": [
    "column_names = ['Title', 'Author', 'ISBN', 'Ave_Rating', 'Rating_num', 'Review_num', 'Year', 'Pages', 'Publisher']\n",
    "books_df = pd.DataFrame()"
   ]
  },
  {
   "cell_type": "code",
   "execution_count": null,
   "metadata": {},
   "outputs": [],
   "source": [
    "def parse_one_book(book_link):\n",
    "    \"\"\"parse one book and store information in pandas object\"\"\"\n",
    "    "
   ]
  },
  {
   "cell_type": "code",
   "execution_count": null,
   "metadata": {},
   "outputs": [],
   "source": []
  }
 ],
 "metadata": {
  "kernelspec": {
   "display_name": "Python 3",
   "language": "python",
   "name": "python3"
  },
  "language_info": {
   "codemirror_mode": {
    "name": "ipython",
    "version": 3
   },
   "file_extension": ".py",
   "mimetype": "text/x-python",
   "name": "python",
   "nbconvert_exporter": "python",
   "pygments_lexer": "ipython3",
   "version": "3.7.0"
  }
 },
 "nbformat": 4,
 "nbformat_minor": 2
}
